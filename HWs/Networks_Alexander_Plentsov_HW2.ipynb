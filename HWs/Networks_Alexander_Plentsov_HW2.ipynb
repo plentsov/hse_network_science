{
 "cells": [
  {
   "cell_type": "markdown",
   "metadata": {},
   "source": [
    "# <center>Network Science</center>"
   ]
  },
  {
   "cell_type": "markdown",
   "metadata": {},
   "source": [
    "## <center>Home Assignment #2: Network models</center>"
   ]
  },
  {
   "cell_type": "markdown",
   "metadata": {},
   "source": [
    "### <center>Student: *{Your Name}*</center>"
   ]
  },
  {
   "cell_type": "markdown",
   "metadata": {},
   "source": [
    "#### <hr /> General Information"
   ]
  },
  {
   "cell_type": "markdown",
   "metadata": {},
   "source": [
    "**Due Date:** 03.03.2017<br \\>\n",
    "**Late submission policy:** -2 points per day <br \\>\n",
    "\n",
    "\n",
    "Please send your reports to <network.hse.2016@gmail.com> with message subject of the following structure:<br \\> **[HSE Networks 2017] *{LastName}* *{First Name}* HA*{Number}***\n",
    "\n",
    "Support your computations with figures and comments. <br \\>\n",
    "If you are using IPython Notebook you may use this file as a starting point of your report.<br \\>\n",
    "<br \\>\n",
    "<hr \\>"
   ]
  },
  {
   "cell_type": "markdown",
   "metadata": {},
   "source": [
    "## Problems"
   ]
  },
  {
   "cell_type": "markdown",
   "metadata": {},
   "source": [
    "### Task 1"
   ]
  },
  {
   "cell_type": "markdown",
   "metadata": {},
   "source": [
    "Consider Barabasi and Albert dynamical grow model. Two main ingredients of this model are *network growing* and *prefferential attachment*. Implement two restricted B&A-based models:\n",
    "<br \\>\n",
    "\n",
    "**Model A**\n",
    "<br \\>\n",
    "Lack of prefferential attachment, that is at each time-step form edges uniformly at random while network keeps growing.\n",
    "\n",
    "**Model B**\n",
    "<br \\>\n",
    "Lack of growing, that is fix total number of nodes, on each time-step randomly choose one and form edges with prefferential attachment.\n",
    "<br \\>\n",
    "\n",
    "1. Generate networks according to the models above ($N > 1000$ nodes)\n",
    "2. Compute CDF/PDF, describe the distribution and compute\\describe its properties.\n",
    "3. Illustate the following dependencies: \n",
    "    * average path length to the number of nodes\n",
    "    * average clustering coefficient to the number of nodes\n",
    "    * average node degee to the nodes \"age\"\n",
    "4. Is scale-free property conserved in these models?\n",
    "\n",
    "Analyse results with respect to various parameter settings"
   ]
  },
  {
   "cell_type": "markdown",
   "metadata": {},
   "source": [
    "### <hr /> Task 2"
   ]
  },
  {
   "cell_type": "markdown",
   "metadata": {},
   "source": [
    "Consider the following  \"Vertex copying model\" of growing network.\n",
    "\n",
    "At every time step a random vertex from already existing vertices is selected and duplicated together with all edges, such that  every edge of the  vertex\n",
    "* is copied with probability $q$\n",
    "* is rewired to any other randomly selected vertex with probability $1-q$\n",
    "\n",
    "\n",
    "Starting state is defined by some small number of randomly connected vertices.\n",
    "\n",
    "The model can generate both directed and undirected networks.\n",
    "\n",
    "1. Generate  graphs based on the model ($N > 1000$ nodes)\n",
    "2. Compute CDF/PDF, describe the distribution and compute\\describe its properties.\n",
    "3. Illustate the following dependencies: \n",
    "    * average path length to the number of nodes\n",
    "    * average clustering coefficient to the number of nodes\n",
    "    * average node degee to the nodes \"age\"\n",
    "    \n",
    "Analyse results with respect to various parameter settings"
   ]
  }
 ],
 "metadata": {
  "kernelspec": {
   "display_name": "Python 2",
   "language": "python",
   "name": "python2"
  },
  "language_info": {
   "codemirror_mode": {
    "name": "ipython",
    "version": 2
   },
   "file_extension": ".py",
   "mimetype": "text/x-python",
   "name": "python",
   "nbconvert_exporter": "python",
   "pygments_lexer": "ipython2",
   "version": "2.7.11"
  }
 },
 "nbformat": 4,
 "nbformat_minor": 0
}
